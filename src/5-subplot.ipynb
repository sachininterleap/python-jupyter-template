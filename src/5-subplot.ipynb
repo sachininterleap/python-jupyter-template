{
 "cells": [
  {
   "cell_type": "markdown",
   "metadata": {},
   "source": [
    "### Exercise 5: Subplot Layout"
   ]
  },
  {
   "cell_type": "code",
   "execution_count": null,
   "metadata": {},
   "outputs": [],
   "source": [
    "# TODO: Create a 2x2 subplot layout.\n",
    "# Plot a line chart in the first subplot, a bar chart in the second, a scatter plot in the third, and a pie chart in the fourth."
   ]
  },
  {
   "cell_type": "code",
   "execution_count": null,
   "metadata": {},
   "outputs": [],
   "source": [
    "labels = ['Apple', 'Banana', 'Cherry', 'Date']\n",
    "sizes = [10, 15, 7, 5]\n",
    "\n",
    "# Create a pie chart\n",
    "pl.pie(sizes, labels=labels, autopct='%1.1f%%')"
   ]
  }
 ],
 "metadata": {
  "language_info": {
   "name": "python"
  }
 },
 "nbformat": 4,
 "nbformat_minor": 2
}
